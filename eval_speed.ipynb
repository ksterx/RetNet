{
 "cells": [
  {
   "cell_type": "code",
   "execution_count": 1,
   "metadata": {},
   "outputs": [
    {
     "name": "stderr",
     "output_type": "stream",
     "text": [
      "/home/k_ishikawa/miniconda3/envs/llm/lib/python3.10/site-packages/tqdm/auto.py:21: TqdmWarning: IProgress not found. Please update jupyter and ipywidgets. See https://ipywidgets.readthedocs.io/en/stable/user_install.html\n",
      "  from .autonotebook import tqdm as notebook_tqdm\n"
     ]
    }
   ],
   "source": [
    "from retnet_exp.modeling_retnet import RetNetForCausalLM\n",
    "from transformers import AutoTokenizer, AutoModelForCausalLM\n",
    "import torch\n",
    "import time\n",
    "import matplotlib.pyplot as plt"
   ]
  },
  {
   "cell_type": "code",
   "execution_count": 2,
   "metadata": {},
   "outputs": [
    {
     "name": "stderr",
     "output_type": "stream",
     "text": [
      "Loading checkpoint shards: 100%|██████████| 3/3 [00:02<00:00,  1.23it/s]\n"
     ]
    }
   ],
   "source": [
    "model_id = \"Spiral-AI/Spiral-RetNet-3b-base\"\n",
    "model_retnet = RetNetForCausalLM.from_pretrained(model_id, device_map=\"auto\")\n",
    "tok_retnet = AutoTokenizer.from_pretrained(model_id)"
   ]
  },
  {
   "cell_type": "code",
   "execution_count": 3,
   "metadata": {},
   "outputs": [],
   "source": [
    "model_id = \"cyberagent/open-calm-3b\"\n",
    "model_transformer = AutoModelForCausalLM.from_pretrained(model_id, device_map=\"auto\")\n",
    "tok_transformer = AutoTokenizer.from_pretrained(model_id)"
   ]
  },
  {
   "cell_type": "code",
   "execution_count": 4,
   "metadata": {},
   "outputs": [],
   "source": [
    "def precompute_kv_retnet(model, inputs):\n",
    "    with torch.inference_mode():\n",
    "        start = time.time()\n",
    "        outputs = model(\n",
    "            **inputs, return_dict=True, use_cache=True, forward_impl=\"parallel\"\n",
    "        )\n",
    "        end = time.time()\n",
    "        elapsed = end - start\n",
    "        # print(f\"Precompute: {elapsed} seconds\")\n",
    "    return outputs, elapsed"
   ]
  },
  {
   "cell_type": "code",
   "execution_count": 5,
   "metadata": {},
   "outputs": [],
   "source": [
    "def precompute_kv_transformer(model, inputs):\n",
    "    with torch.inference_mode():\n",
    "        start = time.time()\n",
    "        outputs = model(**inputs, return_dict=True, use_cache=True)\n",
    "        end = time.time()\n",
    "        elapsed = end - start\n",
    "        # print(f\"Precompute: {elapsed} seconds\")\n",
    "    return outputs, elapsed"
   ]
  },
  {
   "cell_type": "code",
   "execution_count": 6,
   "metadata": {},
   "outputs": [],
   "source": [
    "def generate_retnet(\n",
    "    model, input_ids, precomputed, mode: str, max_new_tokens=50, **kwargs\n",
    "):\n",
    "    input_ids = input_ids.to(model.device)\n",
    "    with torch.inference_mode():\n",
    "        history = input_ids\n",
    "        start = time.time()\n",
    "        if mode == \"parallel\":\n",
    "            for _ in range(max_new_tokens):\n",
    "                outputs = model(\n",
    "                    input_ids=history,\n",
    "                    past_key_values=None,\n",
    "                    return_dict=True,\n",
    "                    forward_impl=\"parallel\",\n",
    "                    **kwargs,\n",
    "                )\n",
    "                logit = outputs.logits[:, -1, :]  # [batch_size, vocab_size]\n",
    "                generated = torch.argmax(logit, dim=-1, keepdim=True)\n",
    "                history = torch.cat([history, generated], dim=-1)\n",
    "\n",
    "            end = time.time()\n",
    "            elapsed = end - start\n",
    "            print(f\"Parallel Inference: {elapsed} seconds\")\n",
    "            return history, elapsed\n",
    "\n",
    "        elif mode == \"recurrent\":\n",
    "            past_kv = precomputed.past_key_values\n",
    "            for _ in range(max_new_tokens):\n",
    "                outputs = model(\n",
    "                    input_ids=history,\n",
    "                    retention_mask=None,\n",
    "                    forward_impl=\"recurrent\",\n",
    "                    past_key_values=past_kv,\n",
    "                    use_cache=True,\n",
    "                    return_dict=True,\n",
    "                )\n",
    "                logit = outputs.logits[:, -1, :]  # [batch_size, vocab_size]\n",
    "                past_kv = outputs.past_key_values\n",
    "                generated = torch.argmax(logit, dim=-1, keepdim=True)\n",
    "                history = torch.cat([history, generated], dim=-1)\n",
    "            end = time.time()\n",
    "            elapsed = end - start\n",
    "            print(f\"Reccurent Inference: {elapsed} seconds\")\n",
    "            return history, elapsed"
   ]
  },
  {
   "cell_type": "code",
   "execution_count": 7,
   "metadata": {},
   "outputs": [],
   "source": [
    "def generate_transformer(model, input_ids, max_new_tokens=50, **kwargs):\n",
    "    input_ids = input_ids.to(model.device)\n",
    "    with torch.inference_mode():\n",
    "        history = input_ids\n",
    "        start = time.time()\n",
    "        for _ in range(max_new_tokens):\n",
    "            outputs = model(input_ids=history, return_dict=True, use_cache=True)\n",
    "            logit = outputs.logits[:, -1, :]\n",
    "            generated = torch.argmax(logit, dim=-1, keepdim=True)\n",
    "            history = torch.cat([history, generated], dim=-1)\n",
    "        end = time.time()\n",
    "        elapsed = end - start\n",
    "        print(f\"Transformer Inference: {elapsed} seconds\")\n",
    "        return history, elapsed"
   ]
  },
  {
   "cell_type": "code",
   "execution_count": 8,
   "metadata": {},
   "outputs": [],
   "source": [
    "def inference_retnet(model, tokenizer, text, mode: str, max_new_tokens=50):\n",
    "    print()\n",
    "    print(\"=\" * 80)\n",
    "    inputs = tokenizer(text, return_tensors=\"pt\").to(model.device)\n",
    "    print(\"Initial prompt:\", len(inputs[\"input_ids\"][0]), \"tokens\")\n",
    "    precomputed, precompute_time = precompute_kv_retnet(model, inputs)\n",
    "    outputs, elapsed = generate_retnet(\n",
    "        model, inputs[\"input_ids\"], precomputed, mode, max_new_tokens=max_new_tokens\n",
    "    )\n",
    "\n",
    "    generated = tokenizer.decode(outputs[0], skip_special_tokens=True)[len(text) :]\n",
    "    print(\"Input:\", text)\n",
    "    print(\"Output:\", generated)\n",
    "    wps = len(generated) / elapsed\n",
    "    print(f\"Throughput ({mode}): {wps} wps\")\n",
    "    return generated, wps"
   ]
  },
  {
   "cell_type": "code",
   "execution_count": 9,
   "metadata": {},
   "outputs": [],
   "source": [
    "def inference_transformer(model, tokenizer, text, max_new_tokens=50):\n",
    "    print()\n",
    "    print(\"=\" * 80)\n",
    "    inputs = tokenizer(text, return_tensors=\"pt\").to(model.device)\n",
    "    print(\"Initial prompt:\", len(inputs[\"input_ids\"][0]), \"tokens\")\n",
    "    precomputed, precompute_time = precompute_kv_transformer(model, inputs)\n",
    "    outputs, elapsed = generate_transformer(\n",
    "        model, inputs[\"input_ids\"], max_new_tokens=max_new_tokens\n",
    "    )\n",
    "\n",
    "    generated = tokenizer.decode(outputs[0], skip_special_tokens=True)[len(text) :]\n",
    "    print(\"Input:\", text)\n",
    "    print(\"Output:\", generated)\n",
    "    wps = len(generated) / elapsed\n",
    "    print(f\"Throughput: {wps} wps\")\n",
    "    return generated, wps"
   ]
  },
  {
   "cell_type": "code",
   "execution_count": 10,
   "metadata": {},
   "outputs": [],
   "source": [
    "texts = [\n",
    "    \"最近、秋葉原周辺で興味深い\",\n",
    "    \"\"\"作品は「第一部」「第二部」「間奏曲」「第三部」により構成される[4]。エピグラフとして『三齊紀略』と[5][注 1]、蘇軾の七言律詩『登州海市』の一部「東方海雲空復空／群仙出沒空明中／蕩搖浮世生萬象／豈有貝闕藏珠宮／心知所見皆幻影」が引用されている[3]。\n",
    "\n",
    "# 画家の澁太吉は、蜃気楼を見に南伊豆の左浦へ出かける。そこで澁は一人の女性と出会い、数日間を共にする中で深い幸福感を得る。しかし、彼女は「安見子」という名前だけを告げ、何も言わずに去って行ってしまった。旅行を終えて帰ってきた澁は、奇跡的に安見子と再会するが、彼女は古くからの親友の妻であったことが判明する[7]。 親友の妻と知っていても尚、澁は安見子への愛情を捨てられずに密会を続け[7]、安見子のほうでも交渉を終わりにしたいと思いつつ、愛を諦められずにいた。やがて澁は安見子に創造の炎をかき立てられ、陥っていたスランプからも脱却する[8]。\n",
    "\n",
    "# やがて澁は、かねてより別居中であった妻との離婚をも決意する。しかし澁には、かつて別の女性と心中の約束をしながらも裏切った記憶が、今も罪の意識として残っていた。安見子もかつて三角関係があった末に今の夫を選んだのであり、選んだ以上は取り返しがつかないとして、澁と別れようとする。そしてある日突然家出をし、家に戻った後に夫に澁との関係を告白する[7]。澁は、その後再び家を出た安見子と会う約束をするが、息子が腸閉塞で入院して手術を受けることとなり、その約束を破らざるを得なかった。安見子は一人で、最初に澁と出会った左浦へ旅立ち、旅館からの電話で澁を非難することなく、別れの言葉を告げる[7][9]。最初に澁と出会った断崖が、彼女の選んだ死場所だった[10]。\n",
    "\n",
    "# 登場人物\n",
    "# 主要人物\n",
    "\n",
    "# 澁 太吉（しぶ たきち） - 40歳になる抽象画家。姑（澁の母）との折り合いが悪く別居中の妻と、小学生の息子がいる[11]。20歳、30歳、40歳で3人の女を愛したが[9]、ふさちゃんを裏切り、弓子を幸せにできず、安見子との約束をも破る結果に終わった[12]。\n",
    "# 古賀 安見子（こが やすみこ） - 古賀の妻。かつて野々宮という青年に愛されたこともあったが、彼を振り捨てて古賀と結婚した[13]。名前は『万葉集』の短歌に由来する[3][注 2]。\n",
    "# 古賀 信介（こが しんすけ） - 大学教授。澁の旧友で、安見子の夫[14]。戦時中に澁がふさちゃんと心中しようとした際、「芸術家としての使命」を自覚させて思い留まらせた[15]。\n",
    "# 澁 弓子（しぶ ゆみこ） - 澁の妻。かつては画家の菱沼を愛していたが、10年前に彼が渡仏した後に澁の熱心な申し出を受け入れて結婚し、息子の太平をもうける。しかし姑との折り合いが悪く、今は一人で別居して離婚寸前の状況にあり、澁の友人が経営する洋裁店で働いている[15][8]。\n",
    "# 周辺人物\n",
    "\n",
    "# 菱沼 五郎（ひしぬま ごろう） - 澁の同級生の画家[15]。かつて弓子が恋していた相手[8]。\n",
    "# ふさちゃん - 澁と20年前に恋愛関係にあった女学生。澁とは遠縁の関係で、戦時中に聯隊に入った彼が縁故を辿って遊びに行ったことがきっかけで知り合った。勤労奉仕中に健康を害して床に臥せるようになり、最後には病死する[16]。澁は彼女と心中する約束をしていたが、それを裏切って一人だけ死なせる形となった[8]。20年後になってこの恋愛が、澁と弓子の夫婦関係に影を落とすこととなる[16]。\n",
    "# 構成の特徴\n",
    "# 本作品は「第一部」「第二部」「間奏曲」「第三部」の内、「間奏曲」以外の各部で、澁が一人称で語る断章と、三人称で会話が中心の断章が交錯する構成となっている。澁の語りでは安見子との出会いとその結末までが時系列順に語られ、三人称の断章では主体が澁と弓子、古賀と安見子、安見子と野々宮、澁とふさちゃん、澁と古賀、弓子と菱沼、といった様々な主体の会話が示される[5]。\n",
    "\n",
    "# 福永自身は単行本の函に印刷された「著者の言葉」で、「一人の画家を主人公に、恋愛の幾つかの相を描いて、現代における愛の運命を追求した。バッハの「平均率クラヴィア曲集」に倣い、男と女との愛の「平均率」を、「前奏曲」と「フーガ」とを交錯させる形式によって描き出そうと考えた。」と解説している[17]。また、のちに発表した「「海市」の背景」では、以前から2年に1作ほどの割合で『群像』に発表していた短編群の、みな一人の男と女が鍵括弧を使わない言葉で対話を交しているという方式[注 3]を長編に用いたらどういうことになるかと考え、次のように考えたと述べている[18]。本作品は新潮社の「純文学書下ろし特別作品」の一冊として刊行されたが、福永によれば当初は、以前から構想していた別の小説『死の島』をこのシリーズから発表する予定であった。ただ構想が進むにつれ『死の島』の予定枚数が増えていく一方であったため別の小説に替えることとし、編集者の「三百枚でいいですよ、三百枚あれば本になる」という言葉から、福永は新たに400枚程度のものを書くことにした[21]。\n",
    "\n",
    "# しかし新たな書き下ろし長編小説の構想は中々まとまらなかったため、1964年（昭和39年）4月、福永は一人で伊豆の子浦（静岡県賀茂郡南伊豆町）へと旅行した[注 5]。福永はその8年ほど前に子浦から波勝岬へ出ている遊覧船の船長の家に数日間滞在したことがあり、その際の漁村の印象が鮮明であったためだった。再訪した福永は、妻良に1軒のみある宿屋に約4日滞在し[22]、ここでノートを取っていたが、当初の構想は完成形とは大幅に異なる、「伊豆の漁村を舞台にして二人の男と一人の女との悲劇的な愛を描く」というものだった。また、このときに既に蘇軾の「心知所見皆幻影（まことに知る見るところみな幻影なるを）」という一節を含む詩から、以前の作品『廃市』と対になるのが面白いとして、題名を決めていたという[23]。\n",
    "\n",
    "# しかし妻良では、折しも同じ宿屋に滞在していた大学の応援団の、浜辺での応援練習や飲み会の大騒ぎにより、小説の案は一向に進まなかった。そこで別の部落の落居へと移った福永は、落居での海を見下ろす風景が非常に気に入り、ここで「恋愛感情は不在の観念から生じるのではないか」と考えたが[22]、浮かんでくる構想は観念的・抽象的なものばかりで、ここでも「仕事はそっちのけにして散歩ばかりしていた」という[23]。\n",
    "\n",
    "# しかしそれ以降も一向にこの小説は手につかず、翌1965年（昭和40年）の春にようやく書き始め、「それもさんざん手こずった」という[24]。このときに主人公の男を青年から中年にし、小さな子持ちの女の予定だった人物も若い年齢に変更した。その上で二人を、海岸でばったりと出会わせることにした[23]。\n",
    "\n",
    "# 福永は同年の暮れまでに約380枚を書いたものの、翌1966年（昭和41年）は『死の島』『風のかたみ』という2本の長編の連載が重なり、更に2月から3月までは胃を悪くして入院することとなったため、『海市』は20枚ほどしか進められずに翌年へ持ち越された。1967年（昭和42年）8月1日から9月10日までに、切羽詰まったところで300枚ほどを書き、最終的に当初よりも大幅に分量の増えた700枚で完成させたが、「短い間にこんなに沢山書いたのは私も初めてである」と福永は述懐している[23]。\n",
    "\n",
    "# 刊行に至ったのは、伊豆への旅行から3年後の1968年（昭和43年）初めとなった[24]。福永は出版後、「しばしば見知らぬ読者から、あの舞台になっている左浦というのは何処ですか、地図を探しても見つからないから」という質問を受けたといい、作中の左浦（さうら）は妻良（めら）、友江は子浦、落人（おちうど）は落居であるが、「半分は想像ですから実物を見るとがっかりしますよ、特に蜃気楼の見える岬なんてのはまったくの創作ですからね」と念を押したという[22][注 6]。\n",
    "\n",
    "# 福永はのちに「海の想い」と題した随筆で「私は海のほとりで生れたわけでも、また育ったわけでもない。しかし自分でも奇妙に思えるほど、海への想いに取り憑かれていて、それが私の文学的発想の大きな部分を占めていることを否むわけにはいかない」[25]と述べ、また長編小説『風土』を構想していた時から「その小説の人間的葛藤の向う側に、いつでも海が、一種の運命のように横たわっていた。そして私はそれ以来、海を人間の生、或いは人間の死の象徴のように見ることで、小説の発想を促されることがしばしばある」[25]としている。\"\"\",\n",
    "]"
   ]
  },
  {
   "cell_type": "code",
   "execution_count": 11,
   "metadata": {},
   "outputs": [
    {
     "name": "stdout",
     "output_type": "stream",
     "text": [
      "\n",
      "================================================================================\n",
      "Initial prompt: 6 tokens\n",
      "Reccurent Inference: 38.71298599243164 seconds\n",
      "Input: 最近、秋葉原周辺で興味深い\n",
      "Output: イベントが開催されています。\n",
      "「秋葉原UDX」は、2013年10月1日にオープンした、秋葉原UDXビルの1階部分にある、UDXシアター(旧:UDXシアター)と、UDXシアター(旧:UDXシアター)の2つのシアターからなる施設です。UDXシアターは、2013年10月1日にオープンした、秋葉原UDXビルの1階部分にある、秋葉原UDXビルの1\n",
      "Throughput (recurrent): 4.365460211026847 wps\n",
      "\n",
      "================================================================================\n",
      "Initial prompt: 2120 tokens\n",
      "Reccurent Inference: 42.54445767402649 seconds\n",
      "Input: 作品は「第一部」「第二部」「間奏曲」「第三部」により構成される[4]。エピグラフとして『三齊紀略』と[5][注 1]、蘇軾の七言律詩『登州海市』の一部「東方海雲空復空／群仙出沒空明中／蕩搖浮世生萬象／豈有貝闕藏珠宮／心知所見皆幻影」が引用されている[3]。\n",
      "\n",
      "# 画家の澁太吉は、蜃気楼を見に南伊豆の左浦へ出かける。そこで澁は一人の女性と出会い、数日間を共にする中で深い幸福感を得る。しかし、彼女は「安見子」という名前だけを告げ、何も言わずに去って行ってしまった。旅行を終えて帰ってきた澁は、奇跡的に安見子と再会するが、彼女は古くからの親友の妻であったことが判明する[7]。 親友の妻と知っていても尚、澁は安見子への愛情を捨てられずに密会を続け[7]、安見子のほうでも交渉を終わりにしたいと思いつつ、愛を諦められずにいた。やがて澁は安見子に創造の炎をかき立てられ、陥っていたスランプからも脱却する[8]。\n",
      "\n",
      "# やがて澁は、かねてより別居中であった妻との離婚をも決意する。しかし澁には、かつて別の女性と心中の約束をしながらも裏切った記憶が、今も罪の意識として残っていた。安見子もかつて三角関係があった末に今の夫を選んだのであり、選んだ以上は取り返しがつかないとして、澁と別れようとする。そしてある日突然家出をし、家に戻った後に夫に澁との関係を告白する[7]。澁は、その後再び家を出た安見子と会う約束をするが、息子が腸閉塞で入院して手術を受けることとなり、その約束を破らざるを得なかった。安見子は一人で、最初に澁と出会った左浦へ旅立ち、旅館からの電話で澁を非難することなく、別れの言葉を告げる[7][9]。最初に澁と出会った断崖が、彼女の選んだ死場所だった[10]。\n",
      "\n",
      "# 登場人物\n",
      "# 主要人物\n",
      "\n",
      "# 澁 太吉（しぶ たきち） - 40歳になる抽象画家。姑（澁の母）との折り合いが悪く別居中の妻と、小学生の息子がいる[11]。20歳、30歳、40歳で3人の女を愛したが[9]、ふさちゃんを裏切り、弓子を幸せにできず、安見子との約束をも破る結果に終わった[12]。\n",
      "# 古賀 安見子（こが やすみこ） - 古賀の妻。かつて野々宮という青年に愛されたこともあったが、彼を振り捨てて古賀と結婚した[13]。名前は『万葉集』の短歌に由来する[3][注 2]。\n",
      "# 古賀 信介（こが しんすけ） - 大学教授。澁の旧友で、安見子の夫[14]。戦時中に澁がふさちゃんと心中しようとした際、「芸術家としての使命」を自覚させて思い留まらせた[15]。\n",
      "# 澁 弓子（しぶ ゆみこ） - 澁の妻。かつては画家の菱沼を愛していたが、10年前に彼が渡仏した後に澁の熱心な申し出を受け入れて結婚し、息子の太平をもうける。しかし姑との折り合いが悪く、今は一人で別居して離婚寸前の状況にあり、澁の友人が経営する洋裁店で働いている[15][8]。\n",
      "# 周辺人物\n",
      "\n",
      "# 菱沼 五郎（ひしぬま ごろう） - 澁の同級生の画家[15]。かつて弓子が恋していた相手[8]。\n",
      "# ふさちゃん - 澁と20年前に恋愛関係にあった女学生。澁とは遠縁の関係で、戦時中に聯隊に入った彼が縁故を辿って遊びに行ったことがきっかけで知り合った。勤労奉仕中に健康を害して床に臥せるようになり、最後には病死する[16]。澁は彼女と心中する約束をしていたが、それを裏切って一人だけ死なせる形となった[8]。20年後になってこの恋愛が、澁と弓子の夫婦関係に影を落とすこととなる[16]。\n",
      "# 構成の特徴\n",
      "# 本作品は「第一部」「第二部」「間奏曲」「第三部」の内、「間奏曲」以外の各部で、澁が一人称で語る断章と、三人称で会話が中心の断章が交錯する構成となっている。澁の語りでは安見子との出会いとその結末までが時系列順に語られ、三人称の断章では主体が澁と弓子、古賀と安見子、安見子と野々宮、澁とふさちゃん、澁と古賀、弓子と菱沼、といった様々な主体の会話が示される[5]。\n",
      "\n",
      "# 福永自身は単行本の函に印刷された「著者の言葉」で、「一人の画家を主人公に、恋愛の幾つかの相を描いて、現代における愛の運命を追求した。バッハの「平均率クラヴィア曲集」に倣い、男と女との愛の「平均率」を、「前奏曲」と「フーガ」とを交錯させる形式によって描き出そうと考えた。」と解説している[17]。また、のちに発表した「「海市」の背景」では、以前から2年に1作ほどの割合で『群像』に発表していた短編群の、みな一人の男と女が鍵括弧を使わない言葉で対話を交しているという方式[注 3]を長編に用いたらどういうことになるかと考え、次のように考えたと述べている[18]。本作品は新潮社の「純文学書下ろし特別作品」の一冊として刊行されたが、福永によれば当初は、以前から構想していた別の小説『死の島』をこのシリーズから発表する予定であった。ただ構想が進むにつれ『死の島』の予定枚数が増えていく一方であったため別の小説に替えることとし、編集者の「三百枚でいいですよ、三百枚あれば本になる」という言葉から、福永は新たに400枚程度のものを書くことにした[21]。\n",
      "\n",
      "# しかし新たな書き下ろし長編小説の構想は中々まとまらなかったため、1964年（昭和39年）4月、福永は一人で伊豆の子浦（静岡県賀茂郡南伊豆町）へと旅行した[注 5]。福永はその8年ほど前に子浦から波勝岬へ出ている遊覧船の船長の家に数日間滞在したことがあり、その際の漁村の印象が鮮明であったためだった。再訪した福永は、妻良に1軒のみある宿屋に約4日滞在し[22]、ここでノートを取っていたが、当初の構想は完成形とは大幅に異なる、「伊豆の漁村を舞台にして二人の男と一人の女との悲劇的な愛を描く」というものだった。また、このときに既に蘇軾の「心知所見皆幻影（まことに知る見るところみな幻影なるを）」という一節を含む詩から、以前の作品『廃市』と対になるのが面白いとして、題名を決めていたという[23]。\n",
      "\n",
      "# しかし妻良では、折しも同じ宿屋に滞在していた大学の応援団の、浜辺での応援練習や飲み会の大騒ぎにより、小説の案は一向に進まなかった。そこで別の部落の落居へと移った福永は、落居での海を見下ろす風景が非常に気に入り、ここで「恋愛感情は不在の観念から生じるのではないか」と考えたが[22]、浮かんでくる構想は観念的・抽象的なものばかりで、ここでも「仕事はそっちのけにして散歩ばかりしていた」という[23]。\n",
      "\n",
      "# しかしそれ以降も一向にこの小説は手につかず、翌1965年（昭和40年）の春にようやく書き始め、「それもさんざん手こずった」という[24]。このときに主人公の男を青年から中年にし、小さな子持ちの女の予定だった人物も若い年齢に変更した。その上で二人を、海岸でばったりと出会わせることにした[23]。\n",
      "\n",
      "# 福永は同年の暮れまでに約380枚を書いたものの、翌1966年（昭和41年）は『死の島』『風のかたみ』という2本の長編の連載が重なり、更に2月から3月までは胃を悪くして入院することとなったため、『海市』は20枚ほどしか進められずに翌年へ持ち越された。1967年（昭和42年）8月1日から9月10日までに、切羽詰まったところで300枚ほどを書き、最終的に当初よりも大幅に分量の増えた700枚で完成させたが、「短い間にこんなに沢山書いたのは私も初めてである」と福永は述懐している[23]。\n",
      "\n",
      "# 刊行に至ったのは、伊豆への旅行から3年後の1968年（昭和43年）初めとなった[24]。福永は出版後、「しばしば見知らぬ読者から、あの舞台になっている左浦というのは何処ですか、地図を探しても見つからないから」という質問を受けたといい、作中の左浦（さうら）は妻良（めら）、友江は子浦、落人（おちうど）は落居であるが、「半分は想像ですから実物を見るとがっかりしますよ、特に蜃気楼の見える岬なんてのはまったくの創作ですからね」と念を押したという[22][注 6]。\n",
      "\n",
      "# 福永はのちに「海の想い」と題した随筆で「私は海のほとりで生れたわけでも、また育ったわけでもない。しかし自分でも奇妙に思えるほど、海への想いに取り憑かれていて、それが私の文学的発想の大きな部分を占めていることを否むわけにはいかない」[25]と述べ、また長編小説『風土』を構想していた時から「その小説の人間的葛藤の向う側に、いつでも海が、一種の運命のように横たわっていた。そして私はそれ以来、海を人間の生、或いは人間の死の象徴のように見ることで、小説の発想を促されることがしばしばある」[25]としている。\n",
      "Output: \n",
      "\n",
      "# 福永は1968年(昭和43年)に『風土』を『海』と改題して刊行した。\n",
      "\n",
      "# 福永は1968年(昭和43年)に『風土』を『海』と改題して刊行した。\n",
      "\n",
      "# 福永は1968年(昭和43年)に『風土』を『海』と改題して刊行した。\n",
      "\n",
      "# \n",
      "Throughput (recurrent): 2.7735692602808597 wps\n"
     ]
    }
   ],
   "source": [
    "for t in texts:\n",
    "    # inference(model_retnet, tok_retnet, t, \"parallel\", 100)\n",
    "    inference_retnet(model_retnet, tok_retnet, t, \"recurrent\", 100)"
   ]
  },
  {
   "cell_type": "code",
   "execution_count": 12,
   "metadata": {},
   "outputs": [
    {
     "name": "stdout",
     "output_type": "stream",
     "text": [
      "\n",
      "================================================================================\n",
      "Initial prompt: 5 tokens\n",
      "Transformer Inference: 19.441785097122192 seconds\n",
      "Input: 最近、秋葉原周辺で興味深い\n",
      "Output: イベントが開催されています。\n",
      "「秋葉原電気街まつり」\n",
      "秋葉原電気街振興会が主催し、秋葉原電気街の店舗が協賛する、電気街の秋葉原ならではのお祭りで、今年で4回目。\n",
      "秋葉原電気街振興会\n",
      "秋葉原電気街振興会HP\n",
      "秋葉原電気街振興会HPより\n",
      "秋葉原電気街振興会HPより\n",
      "秋葉原電気街振興会HPより\n",
      "秋葉原電気街振興会HPより\n",
      "秋葉原電気街振興会HPより\n",
      "秋葉原電気街振興\n",
      "Throughput: 9.309844702829883 wps\n",
      "\n",
      "================================================================================\n",
      "Initial prompt: 1973 tokens\n"
     ]
    },
    {
     "ename": "KeyboardInterrupt",
     "evalue": "",
     "output_type": "error",
     "traceback": [
      "\u001b[0;31m---------------------------------------------------------------------------\u001b[0m",
      "\u001b[0;31mKeyboardInterrupt\u001b[0m                         Traceback (most recent call last)",
      "Cell \u001b[0;32mIn[12], line 2\u001b[0m\n\u001b[1;32m      1\u001b[0m \u001b[38;5;28;01mfor\u001b[39;00m t \u001b[38;5;129;01min\u001b[39;00m texts:\n\u001b[0;32m----> 2\u001b[0m     \u001b[43minference_transformer\u001b[49m\u001b[43m(\u001b[49m\u001b[43mmodel_transformer\u001b[49m\u001b[43m,\u001b[49m\u001b[43m \u001b[49m\u001b[43mtok_transformer\u001b[49m\u001b[43m,\u001b[49m\u001b[43m \u001b[49m\u001b[43mt\u001b[49m\u001b[43m,\u001b[49m\u001b[43m \u001b[49m\u001b[38;5;241;43m100\u001b[39;49m\u001b[43m)\u001b[49m\n",
      "Cell \u001b[0;32mIn[9], line 7\u001b[0m, in \u001b[0;36minference_transformer\u001b[0;34m(model, tokenizer, text, max_new_tokens)\u001b[0m\n\u001b[1;32m      5\u001b[0m \u001b[38;5;28mprint\u001b[39m(\u001b[38;5;124m\"\u001b[39m\u001b[38;5;124mInitial prompt:\u001b[39m\u001b[38;5;124m\"\u001b[39m, \u001b[38;5;28mlen\u001b[39m(inputs[\u001b[38;5;124m\"\u001b[39m\u001b[38;5;124minput_ids\u001b[39m\u001b[38;5;124m\"\u001b[39m][\u001b[38;5;241m0\u001b[39m]), \u001b[38;5;124m\"\u001b[39m\u001b[38;5;124mtokens\u001b[39m\u001b[38;5;124m\"\u001b[39m)\n\u001b[1;32m      6\u001b[0m precomputed, precompute_time \u001b[38;5;241m=\u001b[39m precompute_kv_transformer(model, inputs)\n\u001b[0;32m----> 7\u001b[0m outputs, elapsed \u001b[38;5;241m=\u001b[39m \u001b[43mgenerate_transformer\u001b[49m\u001b[43m(\u001b[49m\n\u001b[1;32m      8\u001b[0m \u001b[43m    \u001b[49m\u001b[43mmodel\u001b[49m\u001b[43m,\u001b[49m\u001b[43m \u001b[49m\u001b[43minputs\u001b[49m\u001b[43m[\u001b[49m\u001b[38;5;124;43m\"\u001b[39;49m\u001b[38;5;124;43minput_ids\u001b[39;49m\u001b[38;5;124;43m\"\u001b[39;49m\u001b[43m]\u001b[49m\u001b[43m,\u001b[49m\u001b[43m \u001b[49m\u001b[43mmax_new_tokens\u001b[49m\u001b[38;5;241;43m=\u001b[39;49m\u001b[43mmax_new_tokens\u001b[49m\n\u001b[1;32m      9\u001b[0m \u001b[43m\u001b[49m\u001b[43m)\u001b[49m\n\u001b[1;32m     11\u001b[0m generated \u001b[38;5;241m=\u001b[39m tokenizer\u001b[38;5;241m.\u001b[39mdecode(outputs[\u001b[38;5;241m0\u001b[39m], skip_special_tokens\u001b[38;5;241m=\u001b[39m\u001b[38;5;28;01mTrue\u001b[39;00m)[\u001b[38;5;28mlen\u001b[39m(text) :]\n\u001b[1;32m     12\u001b[0m \u001b[38;5;28mprint\u001b[39m(\u001b[38;5;124m\"\u001b[39m\u001b[38;5;124mInput:\u001b[39m\u001b[38;5;124m\"\u001b[39m, text)\n",
      "Cell \u001b[0;32mIn[7], line 7\u001b[0m, in \u001b[0;36mgenerate_transformer\u001b[0;34m(model, input_ids, max_new_tokens, **kwargs)\u001b[0m\n\u001b[1;32m      5\u001b[0m start \u001b[38;5;241m=\u001b[39m time\u001b[38;5;241m.\u001b[39mtime()\n\u001b[1;32m      6\u001b[0m \u001b[38;5;28;01mfor\u001b[39;00m _ \u001b[38;5;129;01min\u001b[39;00m \u001b[38;5;28mrange\u001b[39m(max_new_tokens):\n\u001b[0;32m----> 7\u001b[0m     outputs \u001b[38;5;241m=\u001b[39m \u001b[43mmodel\u001b[49m\u001b[43m(\u001b[49m\u001b[43minput_ids\u001b[49m\u001b[38;5;241;43m=\u001b[39;49m\u001b[43mhistory\u001b[49m\u001b[43m,\u001b[49m\u001b[43m \u001b[49m\u001b[43mreturn_dict\u001b[49m\u001b[38;5;241;43m=\u001b[39;49m\u001b[38;5;28;43;01mTrue\u001b[39;49;00m\u001b[43m,\u001b[49m\u001b[43m \u001b[49m\u001b[43muse_cache\u001b[49m\u001b[38;5;241;43m=\u001b[39;49m\u001b[38;5;28;43;01mTrue\u001b[39;49;00m\u001b[43m)\u001b[49m\n\u001b[1;32m      8\u001b[0m     logit \u001b[38;5;241m=\u001b[39m outputs\u001b[38;5;241m.\u001b[39mlogits[:, \u001b[38;5;241m-\u001b[39m\u001b[38;5;241m1\u001b[39m, :]\n\u001b[1;32m      9\u001b[0m     generated \u001b[38;5;241m=\u001b[39m torch\u001b[38;5;241m.\u001b[39margmax(logit, dim\u001b[38;5;241m=\u001b[39m\u001b[38;5;241m-\u001b[39m\u001b[38;5;241m1\u001b[39m, keepdim\u001b[38;5;241m=\u001b[39m\u001b[38;5;28;01mTrue\u001b[39;00m)\n",
      "File \u001b[0;32m~/miniconda3/envs/llm/lib/python3.10/site-packages/torch/nn/modules/module.py:1511\u001b[0m, in \u001b[0;36mModule._wrapped_call_impl\u001b[0;34m(self, *args, **kwargs)\u001b[0m\n\u001b[1;32m   1509\u001b[0m     \u001b[38;5;28;01mreturn\u001b[39;00m \u001b[38;5;28mself\u001b[39m\u001b[38;5;241m.\u001b[39m_compiled_call_impl(\u001b[38;5;241m*\u001b[39margs, \u001b[38;5;241m*\u001b[39m\u001b[38;5;241m*\u001b[39mkwargs)  \u001b[38;5;66;03m# type: ignore[misc]\u001b[39;00m\n\u001b[1;32m   1510\u001b[0m \u001b[38;5;28;01melse\u001b[39;00m:\n\u001b[0;32m-> 1511\u001b[0m     \u001b[38;5;28;01mreturn\u001b[39;00m \u001b[38;5;28;43mself\u001b[39;49m\u001b[38;5;241;43m.\u001b[39;49m\u001b[43m_call_impl\u001b[49m\u001b[43m(\u001b[49m\u001b[38;5;241;43m*\u001b[39;49m\u001b[43margs\u001b[49m\u001b[43m,\u001b[49m\u001b[43m \u001b[49m\u001b[38;5;241;43m*\u001b[39;49m\u001b[38;5;241;43m*\u001b[39;49m\u001b[43mkwargs\u001b[49m\u001b[43m)\u001b[49m\n",
      "File \u001b[0;32m~/miniconda3/envs/llm/lib/python3.10/site-packages/torch/nn/modules/module.py:1520\u001b[0m, in \u001b[0;36mModule._call_impl\u001b[0;34m(self, *args, **kwargs)\u001b[0m\n\u001b[1;32m   1515\u001b[0m \u001b[38;5;66;03m# If we don't have any hooks, we want to skip the rest of the logic in\u001b[39;00m\n\u001b[1;32m   1516\u001b[0m \u001b[38;5;66;03m# this function, and just call forward.\u001b[39;00m\n\u001b[1;32m   1517\u001b[0m \u001b[38;5;28;01mif\u001b[39;00m \u001b[38;5;129;01mnot\u001b[39;00m (\u001b[38;5;28mself\u001b[39m\u001b[38;5;241m.\u001b[39m_backward_hooks \u001b[38;5;129;01mor\u001b[39;00m \u001b[38;5;28mself\u001b[39m\u001b[38;5;241m.\u001b[39m_backward_pre_hooks \u001b[38;5;129;01mor\u001b[39;00m \u001b[38;5;28mself\u001b[39m\u001b[38;5;241m.\u001b[39m_forward_hooks \u001b[38;5;129;01mor\u001b[39;00m \u001b[38;5;28mself\u001b[39m\u001b[38;5;241m.\u001b[39m_forward_pre_hooks\n\u001b[1;32m   1518\u001b[0m         \u001b[38;5;129;01mor\u001b[39;00m _global_backward_pre_hooks \u001b[38;5;129;01mor\u001b[39;00m _global_backward_hooks\n\u001b[1;32m   1519\u001b[0m         \u001b[38;5;129;01mor\u001b[39;00m _global_forward_hooks \u001b[38;5;129;01mor\u001b[39;00m _global_forward_pre_hooks):\n\u001b[0;32m-> 1520\u001b[0m     \u001b[38;5;28;01mreturn\u001b[39;00m \u001b[43mforward_call\u001b[49m\u001b[43m(\u001b[49m\u001b[38;5;241;43m*\u001b[39;49m\u001b[43margs\u001b[49m\u001b[43m,\u001b[49m\u001b[43m \u001b[49m\u001b[38;5;241;43m*\u001b[39;49m\u001b[38;5;241;43m*\u001b[39;49m\u001b[43mkwargs\u001b[49m\u001b[43m)\u001b[49m\n\u001b[1;32m   1522\u001b[0m \u001b[38;5;28;01mtry\u001b[39;00m:\n\u001b[1;32m   1523\u001b[0m     result \u001b[38;5;241m=\u001b[39m \u001b[38;5;28;01mNone\u001b[39;00m\n",
      "File \u001b[0;32m~/miniconda3/envs/llm/lib/python3.10/site-packages/accelerate/hooks.py:166\u001b[0m, in \u001b[0;36madd_hook_to_module.<locals>.new_forward\u001b[0;34m(module, *args, **kwargs)\u001b[0m\n\u001b[1;32m    164\u001b[0m         output \u001b[38;5;241m=\u001b[39m module\u001b[38;5;241m.\u001b[39m_old_forward(\u001b[38;5;241m*\u001b[39margs, \u001b[38;5;241m*\u001b[39m\u001b[38;5;241m*\u001b[39mkwargs)\n\u001b[1;32m    165\u001b[0m \u001b[38;5;28;01melse\u001b[39;00m:\n\u001b[0;32m--> 166\u001b[0m     output \u001b[38;5;241m=\u001b[39m \u001b[43mmodule\u001b[49m\u001b[38;5;241;43m.\u001b[39;49m\u001b[43m_old_forward\u001b[49m\u001b[43m(\u001b[49m\u001b[38;5;241;43m*\u001b[39;49m\u001b[43margs\u001b[49m\u001b[43m,\u001b[49m\u001b[43m \u001b[49m\u001b[38;5;241;43m*\u001b[39;49m\u001b[38;5;241;43m*\u001b[39;49m\u001b[43mkwargs\u001b[49m\u001b[43m)\u001b[49m\n\u001b[1;32m    167\u001b[0m \u001b[38;5;28;01mreturn\u001b[39;00m module\u001b[38;5;241m.\u001b[39m_hf_hook\u001b[38;5;241m.\u001b[39mpost_forward(module, output)\n",
      "File \u001b[0;32m~/miniconda3/envs/llm/lib/python3.10/site-packages/transformers/models/gpt_neox/modeling_gpt_neox.py:1034\u001b[0m, in \u001b[0;36mGPTNeoXForCausalLM.forward\u001b[0;34m(self, input_ids, attention_mask, position_ids, inputs_embeds, head_mask, past_key_values, labels, use_cache, output_attentions, output_hidden_states, return_dict)\u001b[0m\n\u001b[1;32m    993\u001b[0m \u001b[38;5;250m\u001b[39m\u001b[38;5;124mr\u001b[39m\u001b[38;5;124;03m\"\"\"\u001b[39;00m\n\u001b[1;32m    994\u001b[0m \u001b[38;5;124;03mpast_key_values (`tuple(tuple(torch.FloatTensor))`, *optional*, returned when `use_cache=True` is passed or when `config.use_cache=True`):\u001b[39;00m\n\u001b[1;32m    995\u001b[0m \u001b[38;5;124;03m    Tuple of `tuple(torch.FloatTensor)` of length `config.n_layers`, with each tuple having 2 tensors of shape\u001b[39;00m\n\u001b[0;32m   (...)\u001b[0m\n\u001b[1;32m   1030\u001b[0m \u001b[38;5;124;03m>>> prediction_logits = outputs.logits\u001b[39;00m\n\u001b[1;32m   1031\u001b[0m \u001b[38;5;124;03m```\"\"\"\u001b[39;00m\n\u001b[1;32m   1032\u001b[0m return_dict \u001b[38;5;241m=\u001b[39m return_dict \u001b[38;5;28;01mif\u001b[39;00m return_dict \u001b[38;5;129;01mis\u001b[39;00m \u001b[38;5;129;01mnot\u001b[39;00m \u001b[38;5;28;01mNone\u001b[39;00m \u001b[38;5;28;01melse\u001b[39;00m \u001b[38;5;28mself\u001b[39m\u001b[38;5;241m.\u001b[39mconfig\u001b[38;5;241m.\u001b[39muse_return_dict\n\u001b[0;32m-> 1034\u001b[0m outputs \u001b[38;5;241m=\u001b[39m \u001b[38;5;28;43mself\u001b[39;49m\u001b[38;5;241;43m.\u001b[39;49m\u001b[43mgpt_neox\u001b[49m\u001b[43m(\u001b[49m\n\u001b[1;32m   1035\u001b[0m \u001b[43m    \u001b[49m\u001b[43minput_ids\u001b[49m\u001b[43m,\u001b[49m\n\u001b[1;32m   1036\u001b[0m \u001b[43m    \u001b[49m\u001b[43mattention_mask\u001b[49m\u001b[38;5;241;43m=\u001b[39;49m\u001b[43mattention_mask\u001b[49m\u001b[43m,\u001b[49m\n\u001b[1;32m   1037\u001b[0m \u001b[43m    \u001b[49m\u001b[43mposition_ids\u001b[49m\u001b[38;5;241;43m=\u001b[39;49m\u001b[43mposition_ids\u001b[49m\u001b[43m,\u001b[49m\n\u001b[1;32m   1038\u001b[0m \u001b[43m    \u001b[49m\u001b[43mhead_mask\u001b[49m\u001b[38;5;241;43m=\u001b[39;49m\u001b[43mhead_mask\u001b[49m\u001b[43m,\u001b[49m\n\u001b[1;32m   1039\u001b[0m \u001b[43m    \u001b[49m\u001b[43minputs_embeds\u001b[49m\u001b[38;5;241;43m=\u001b[39;49m\u001b[43minputs_embeds\u001b[49m\u001b[43m,\u001b[49m\n\u001b[1;32m   1040\u001b[0m \u001b[43m    \u001b[49m\u001b[43mpast_key_values\u001b[49m\u001b[38;5;241;43m=\u001b[39;49m\u001b[43mpast_key_values\u001b[49m\u001b[43m,\u001b[49m\n\u001b[1;32m   1041\u001b[0m \u001b[43m    \u001b[49m\u001b[43muse_cache\u001b[49m\u001b[38;5;241;43m=\u001b[39;49m\u001b[43muse_cache\u001b[49m\u001b[43m,\u001b[49m\n\u001b[1;32m   1042\u001b[0m \u001b[43m    \u001b[49m\u001b[43moutput_attentions\u001b[49m\u001b[38;5;241;43m=\u001b[39;49m\u001b[43moutput_attentions\u001b[49m\u001b[43m,\u001b[49m\n\u001b[1;32m   1043\u001b[0m \u001b[43m    \u001b[49m\u001b[43moutput_hidden_states\u001b[49m\u001b[38;5;241;43m=\u001b[39;49m\u001b[43moutput_hidden_states\u001b[49m\u001b[43m,\u001b[49m\n\u001b[1;32m   1044\u001b[0m \u001b[43m    \u001b[49m\u001b[43mreturn_dict\u001b[49m\u001b[38;5;241;43m=\u001b[39;49m\u001b[43mreturn_dict\u001b[49m\u001b[43m,\u001b[49m\n\u001b[1;32m   1045\u001b[0m \u001b[43m\u001b[49m\u001b[43m)\u001b[49m\n\u001b[1;32m   1047\u001b[0m hidden_states \u001b[38;5;241m=\u001b[39m outputs[\u001b[38;5;241m0\u001b[39m]\n\u001b[1;32m   1048\u001b[0m lm_logits \u001b[38;5;241m=\u001b[39m \u001b[38;5;28mself\u001b[39m\u001b[38;5;241m.\u001b[39membed_out(hidden_states)\n",
      "File \u001b[0;32m~/miniconda3/envs/llm/lib/python3.10/site-packages/torch/nn/modules/module.py:1511\u001b[0m, in \u001b[0;36mModule._wrapped_call_impl\u001b[0;34m(self, *args, **kwargs)\u001b[0m\n\u001b[1;32m   1509\u001b[0m     \u001b[38;5;28;01mreturn\u001b[39;00m \u001b[38;5;28mself\u001b[39m\u001b[38;5;241m.\u001b[39m_compiled_call_impl(\u001b[38;5;241m*\u001b[39margs, \u001b[38;5;241m*\u001b[39m\u001b[38;5;241m*\u001b[39mkwargs)  \u001b[38;5;66;03m# type: ignore[misc]\u001b[39;00m\n\u001b[1;32m   1510\u001b[0m \u001b[38;5;28;01melse\u001b[39;00m:\n\u001b[0;32m-> 1511\u001b[0m     \u001b[38;5;28;01mreturn\u001b[39;00m \u001b[38;5;28;43mself\u001b[39;49m\u001b[38;5;241;43m.\u001b[39;49m\u001b[43m_call_impl\u001b[49m\u001b[43m(\u001b[49m\u001b[38;5;241;43m*\u001b[39;49m\u001b[43margs\u001b[49m\u001b[43m,\u001b[49m\u001b[43m \u001b[49m\u001b[38;5;241;43m*\u001b[39;49m\u001b[38;5;241;43m*\u001b[39;49m\u001b[43mkwargs\u001b[49m\u001b[43m)\u001b[49m\n",
      "File \u001b[0;32m~/miniconda3/envs/llm/lib/python3.10/site-packages/torch/nn/modules/module.py:1520\u001b[0m, in \u001b[0;36mModule._call_impl\u001b[0;34m(self, *args, **kwargs)\u001b[0m\n\u001b[1;32m   1515\u001b[0m \u001b[38;5;66;03m# If we don't have any hooks, we want to skip the rest of the logic in\u001b[39;00m\n\u001b[1;32m   1516\u001b[0m \u001b[38;5;66;03m# this function, and just call forward.\u001b[39;00m\n\u001b[1;32m   1517\u001b[0m \u001b[38;5;28;01mif\u001b[39;00m \u001b[38;5;129;01mnot\u001b[39;00m (\u001b[38;5;28mself\u001b[39m\u001b[38;5;241m.\u001b[39m_backward_hooks \u001b[38;5;129;01mor\u001b[39;00m \u001b[38;5;28mself\u001b[39m\u001b[38;5;241m.\u001b[39m_backward_pre_hooks \u001b[38;5;129;01mor\u001b[39;00m \u001b[38;5;28mself\u001b[39m\u001b[38;5;241m.\u001b[39m_forward_hooks \u001b[38;5;129;01mor\u001b[39;00m \u001b[38;5;28mself\u001b[39m\u001b[38;5;241m.\u001b[39m_forward_pre_hooks\n\u001b[1;32m   1518\u001b[0m         \u001b[38;5;129;01mor\u001b[39;00m _global_backward_pre_hooks \u001b[38;5;129;01mor\u001b[39;00m _global_backward_hooks\n\u001b[1;32m   1519\u001b[0m         \u001b[38;5;129;01mor\u001b[39;00m _global_forward_hooks \u001b[38;5;129;01mor\u001b[39;00m _global_forward_pre_hooks):\n\u001b[0;32m-> 1520\u001b[0m     \u001b[38;5;28;01mreturn\u001b[39;00m \u001b[43mforward_call\u001b[49m\u001b[43m(\u001b[49m\u001b[38;5;241;43m*\u001b[39;49m\u001b[43margs\u001b[49m\u001b[43m,\u001b[49m\u001b[43m \u001b[49m\u001b[38;5;241;43m*\u001b[39;49m\u001b[38;5;241;43m*\u001b[39;49m\u001b[43mkwargs\u001b[49m\u001b[43m)\u001b[49m\n\u001b[1;32m   1522\u001b[0m \u001b[38;5;28;01mtry\u001b[39;00m:\n\u001b[1;32m   1523\u001b[0m     result \u001b[38;5;241m=\u001b[39m \u001b[38;5;28;01mNone\u001b[39;00m\n",
      "File \u001b[0;32m~/miniconda3/envs/llm/lib/python3.10/site-packages/transformers/models/gpt_neox/modeling_gpt_neox.py:925\u001b[0m, in \u001b[0;36mGPTNeoXModel.forward\u001b[0;34m(self, input_ids, attention_mask, position_ids, head_mask, inputs_embeds, past_key_values, use_cache, output_attentions, output_hidden_states, return_dict)\u001b[0m\n\u001b[1;32m    914\u001b[0m     outputs \u001b[38;5;241m=\u001b[39m \u001b[38;5;28mself\u001b[39m\u001b[38;5;241m.\u001b[39m_gradient_checkpointing_func(\n\u001b[1;32m    915\u001b[0m         layer\u001b[38;5;241m.\u001b[39m\u001b[38;5;21m__call__\u001b[39m,\n\u001b[1;32m    916\u001b[0m         hidden_states,\n\u001b[0;32m   (...)\u001b[0m\n\u001b[1;32m    922\u001b[0m         output_attentions,\n\u001b[1;32m    923\u001b[0m     )\n\u001b[1;32m    924\u001b[0m \u001b[38;5;28;01melse\u001b[39;00m:\n\u001b[0;32m--> 925\u001b[0m     outputs \u001b[38;5;241m=\u001b[39m \u001b[43mlayer\u001b[49m\u001b[43m(\u001b[49m\n\u001b[1;32m    926\u001b[0m \u001b[43m        \u001b[49m\u001b[43mhidden_states\u001b[49m\u001b[43m,\u001b[49m\n\u001b[1;32m    927\u001b[0m \u001b[43m        \u001b[49m\u001b[43mattention_mask\u001b[49m\u001b[38;5;241;43m=\u001b[39;49m\u001b[43mattention_mask\u001b[49m\u001b[43m,\u001b[49m\n\u001b[1;32m    928\u001b[0m \u001b[43m        \u001b[49m\u001b[43mposition_ids\u001b[49m\u001b[38;5;241;43m=\u001b[39;49m\u001b[43mposition_ids\u001b[49m\u001b[43m,\u001b[49m\n\u001b[1;32m    929\u001b[0m \u001b[43m        \u001b[49m\u001b[43mhead_mask\u001b[49m\u001b[38;5;241;43m=\u001b[39;49m\u001b[43mhead_mask\u001b[49m\u001b[43m[\u001b[49m\u001b[43mi\u001b[49m\u001b[43m]\u001b[49m\u001b[43m,\u001b[49m\n\u001b[1;32m    930\u001b[0m \u001b[43m        \u001b[49m\u001b[43mlayer_past\u001b[49m\u001b[38;5;241;43m=\u001b[39;49m\u001b[43mlayer_past\u001b[49m\u001b[43m,\u001b[49m\n\u001b[1;32m    931\u001b[0m \u001b[43m        \u001b[49m\u001b[43muse_cache\u001b[49m\u001b[38;5;241;43m=\u001b[39;49m\u001b[43muse_cache\u001b[49m\u001b[43m,\u001b[49m\n\u001b[1;32m    932\u001b[0m \u001b[43m        \u001b[49m\u001b[43moutput_attentions\u001b[49m\u001b[38;5;241;43m=\u001b[39;49m\u001b[43moutput_attentions\u001b[49m\u001b[43m,\u001b[49m\n\u001b[1;32m    933\u001b[0m \u001b[43m    \u001b[49m\u001b[43m)\u001b[49m\n\u001b[1;32m    934\u001b[0m hidden_states \u001b[38;5;241m=\u001b[39m outputs[\u001b[38;5;241m0\u001b[39m]\n\u001b[1;32m    935\u001b[0m \u001b[38;5;28;01mif\u001b[39;00m use_cache \u001b[38;5;129;01mis\u001b[39;00m \u001b[38;5;28;01mTrue\u001b[39;00m:\n",
      "File \u001b[0;32m~/miniconda3/envs/llm/lib/python3.10/site-packages/torch/nn/modules/module.py:1511\u001b[0m, in \u001b[0;36mModule._wrapped_call_impl\u001b[0;34m(self, *args, **kwargs)\u001b[0m\n\u001b[1;32m   1509\u001b[0m     \u001b[38;5;28;01mreturn\u001b[39;00m \u001b[38;5;28mself\u001b[39m\u001b[38;5;241m.\u001b[39m_compiled_call_impl(\u001b[38;5;241m*\u001b[39margs, \u001b[38;5;241m*\u001b[39m\u001b[38;5;241m*\u001b[39mkwargs)  \u001b[38;5;66;03m# type: ignore[misc]\u001b[39;00m\n\u001b[1;32m   1510\u001b[0m \u001b[38;5;28;01melse\u001b[39;00m:\n\u001b[0;32m-> 1511\u001b[0m     \u001b[38;5;28;01mreturn\u001b[39;00m \u001b[38;5;28;43mself\u001b[39;49m\u001b[38;5;241;43m.\u001b[39;49m\u001b[43m_call_impl\u001b[49m\u001b[43m(\u001b[49m\u001b[38;5;241;43m*\u001b[39;49m\u001b[43margs\u001b[49m\u001b[43m,\u001b[49m\u001b[43m \u001b[49m\u001b[38;5;241;43m*\u001b[39;49m\u001b[38;5;241;43m*\u001b[39;49m\u001b[43mkwargs\u001b[49m\u001b[43m)\u001b[49m\n",
      "File \u001b[0;32m~/miniconda3/envs/llm/lib/python3.10/site-packages/torch/nn/modules/module.py:1520\u001b[0m, in \u001b[0;36mModule._call_impl\u001b[0;34m(self, *args, **kwargs)\u001b[0m\n\u001b[1;32m   1515\u001b[0m \u001b[38;5;66;03m# If we don't have any hooks, we want to skip the rest of the logic in\u001b[39;00m\n\u001b[1;32m   1516\u001b[0m \u001b[38;5;66;03m# this function, and just call forward.\u001b[39;00m\n\u001b[1;32m   1517\u001b[0m \u001b[38;5;28;01mif\u001b[39;00m \u001b[38;5;129;01mnot\u001b[39;00m (\u001b[38;5;28mself\u001b[39m\u001b[38;5;241m.\u001b[39m_backward_hooks \u001b[38;5;129;01mor\u001b[39;00m \u001b[38;5;28mself\u001b[39m\u001b[38;5;241m.\u001b[39m_backward_pre_hooks \u001b[38;5;129;01mor\u001b[39;00m \u001b[38;5;28mself\u001b[39m\u001b[38;5;241m.\u001b[39m_forward_hooks \u001b[38;5;129;01mor\u001b[39;00m \u001b[38;5;28mself\u001b[39m\u001b[38;5;241m.\u001b[39m_forward_pre_hooks\n\u001b[1;32m   1518\u001b[0m         \u001b[38;5;129;01mor\u001b[39;00m _global_backward_pre_hooks \u001b[38;5;129;01mor\u001b[39;00m _global_backward_hooks\n\u001b[1;32m   1519\u001b[0m         \u001b[38;5;129;01mor\u001b[39;00m _global_forward_hooks \u001b[38;5;129;01mor\u001b[39;00m _global_forward_pre_hooks):\n\u001b[0;32m-> 1520\u001b[0m     \u001b[38;5;28;01mreturn\u001b[39;00m \u001b[43mforward_call\u001b[49m\u001b[43m(\u001b[49m\u001b[38;5;241;43m*\u001b[39;49m\u001b[43margs\u001b[49m\u001b[43m,\u001b[49m\u001b[43m \u001b[49m\u001b[38;5;241;43m*\u001b[39;49m\u001b[38;5;241;43m*\u001b[39;49m\u001b[43mkwargs\u001b[49m\u001b[43m)\u001b[49m\n\u001b[1;32m   1522\u001b[0m \u001b[38;5;28;01mtry\u001b[39;00m:\n\u001b[1;32m   1523\u001b[0m     result \u001b[38;5;241m=\u001b[39m \u001b[38;5;28;01mNone\u001b[39;00m\n",
      "File \u001b[0;32m~/miniconda3/envs/llm/lib/python3.10/site-packages/accelerate/hooks.py:166\u001b[0m, in \u001b[0;36madd_hook_to_module.<locals>.new_forward\u001b[0;34m(module, *args, **kwargs)\u001b[0m\n\u001b[1;32m    164\u001b[0m         output \u001b[38;5;241m=\u001b[39m module\u001b[38;5;241m.\u001b[39m_old_forward(\u001b[38;5;241m*\u001b[39margs, \u001b[38;5;241m*\u001b[39m\u001b[38;5;241m*\u001b[39mkwargs)\n\u001b[1;32m    165\u001b[0m \u001b[38;5;28;01melse\u001b[39;00m:\n\u001b[0;32m--> 166\u001b[0m     output \u001b[38;5;241m=\u001b[39m \u001b[43mmodule\u001b[49m\u001b[38;5;241;43m.\u001b[39;49m\u001b[43m_old_forward\u001b[49m\u001b[43m(\u001b[49m\u001b[38;5;241;43m*\u001b[39;49m\u001b[43margs\u001b[49m\u001b[43m,\u001b[49m\u001b[43m \u001b[49m\u001b[38;5;241;43m*\u001b[39;49m\u001b[38;5;241;43m*\u001b[39;49m\u001b[43mkwargs\u001b[49m\u001b[43m)\u001b[49m\n\u001b[1;32m    167\u001b[0m \u001b[38;5;28;01mreturn\u001b[39;00m module\u001b[38;5;241m.\u001b[39m_hf_hook\u001b[38;5;241m.\u001b[39mpost_forward(module, output)\n",
      "File \u001b[0;32m~/miniconda3/envs/llm/lib/python3.10/site-packages/transformers/models/gpt_neox/modeling_gpt_neox.py:690\u001b[0m, in \u001b[0;36mGPTNeoXLayer.forward\u001b[0;34m(self, hidden_states, attention_mask, position_ids, head_mask, use_cache, layer_past, output_attentions)\u001b[0m\n\u001b[1;32m    680\u001b[0m \u001b[38;5;28;01mdef\u001b[39;00m \u001b[38;5;21mforward\u001b[39m(\n\u001b[1;32m    681\u001b[0m     \u001b[38;5;28mself\u001b[39m,\n\u001b[1;32m    682\u001b[0m     hidden_states: Optional[torch\u001b[38;5;241m.\u001b[39mFloatTensor],\n\u001b[0;32m   (...)\u001b[0m\n\u001b[1;32m    688\u001b[0m     output_attentions: Optional[\u001b[38;5;28mbool\u001b[39m] \u001b[38;5;241m=\u001b[39m \u001b[38;5;28;01mFalse\u001b[39;00m,\n\u001b[1;32m    689\u001b[0m ):\n\u001b[0;32m--> 690\u001b[0m     attention_layer_outputs \u001b[38;5;241m=\u001b[39m \u001b[38;5;28;43mself\u001b[39;49m\u001b[38;5;241;43m.\u001b[39;49m\u001b[43mattention\u001b[49m\u001b[43m(\u001b[49m\n\u001b[1;32m    691\u001b[0m \u001b[43m        \u001b[49m\u001b[38;5;28;43mself\u001b[39;49m\u001b[38;5;241;43m.\u001b[39;49m\u001b[43minput_layernorm\u001b[49m\u001b[43m(\u001b[49m\u001b[43mhidden_states\u001b[49m\u001b[43m)\u001b[49m\u001b[43m,\u001b[49m\n\u001b[1;32m    692\u001b[0m \u001b[43m        \u001b[49m\u001b[43mattention_mask\u001b[49m\u001b[38;5;241;43m=\u001b[39;49m\u001b[43mattention_mask\u001b[49m\u001b[43m,\u001b[49m\n\u001b[1;32m    693\u001b[0m \u001b[43m        \u001b[49m\u001b[43mposition_ids\u001b[49m\u001b[38;5;241;43m=\u001b[39;49m\u001b[43mposition_ids\u001b[49m\u001b[43m,\u001b[49m\n\u001b[1;32m    694\u001b[0m \u001b[43m        \u001b[49m\u001b[43mlayer_past\u001b[49m\u001b[38;5;241;43m=\u001b[39;49m\u001b[43mlayer_past\u001b[49m\u001b[43m,\u001b[49m\n\u001b[1;32m    695\u001b[0m \u001b[43m        \u001b[49m\u001b[43mhead_mask\u001b[49m\u001b[38;5;241;43m=\u001b[39;49m\u001b[43mhead_mask\u001b[49m\u001b[43m,\u001b[49m\n\u001b[1;32m    696\u001b[0m \u001b[43m        \u001b[49m\u001b[43muse_cache\u001b[49m\u001b[38;5;241;43m=\u001b[39;49m\u001b[43muse_cache\u001b[49m\u001b[43m,\u001b[49m\n\u001b[1;32m    697\u001b[0m \u001b[43m        \u001b[49m\u001b[43moutput_attentions\u001b[49m\u001b[38;5;241;43m=\u001b[39;49m\u001b[43moutput_attentions\u001b[49m\u001b[43m,\u001b[49m\n\u001b[1;32m    698\u001b[0m \u001b[43m    \u001b[49m\u001b[43m)\u001b[49m\n\u001b[1;32m    699\u001b[0m     attn_output \u001b[38;5;241m=\u001b[39m attention_layer_outputs[\u001b[38;5;241m0\u001b[39m]  \u001b[38;5;66;03m# output_attn: attn_output, present, (attn_weights)\u001b[39;00m\n\u001b[1;32m    700\u001b[0m     attn_output \u001b[38;5;241m=\u001b[39m \u001b[38;5;28mself\u001b[39m\u001b[38;5;241m.\u001b[39mpost_attention_dropout(attn_output)\n",
      "File \u001b[0;32m~/miniconda3/envs/llm/lib/python3.10/site-packages/torch/nn/modules/module.py:1511\u001b[0m, in \u001b[0;36mModule._wrapped_call_impl\u001b[0;34m(self, *args, **kwargs)\u001b[0m\n\u001b[1;32m   1509\u001b[0m     \u001b[38;5;28;01mreturn\u001b[39;00m \u001b[38;5;28mself\u001b[39m\u001b[38;5;241m.\u001b[39m_compiled_call_impl(\u001b[38;5;241m*\u001b[39margs, \u001b[38;5;241m*\u001b[39m\u001b[38;5;241m*\u001b[39mkwargs)  \u001b[38;5;66;03m# type: ignore[misc]\u001b[39;00m\n\u001b[1;32m   1510\u001b[0m \u001b[38;5;28;01melse\u001b[39;00m:\n\u001b[0;32m-> 1511\u001b[0m     \u001b[38;5;28;01mreturn\u001b[39;00m \u001b[38;5;28;43mself\u001b[39;49m\u001b[38;5;241;43m.\u001b[39;49m\u001b[43m_call_impl\u001b[49m\u001b[43m(\u001b[49m\u001b[38;5;241;43m*\u001b[39;49m\u001b[43margs\u001b[49m\u001b[43m,\u001b[49m\u001b[43m \u001b[49m\u001b[38;5;241;43m*\u001b[39;49m\u001b[38;5;241;43m*\u001b[39;49m\u001b[43mkwargs\u001b[49m\u001b[43m)\u001b[49m\n",
      "File \u001b[0;32m~/miniconda3/envs/llm/lib/python3.10/site-packages/torch/nn/modules/module.py:1520\u001b[0m, in \u001b[0;36mModule._call_impl\u001b[0;34m(self, *args, **kwargs)\u001b[0m\n\u001b[1;32m   1515\u001b[0m \u001b[38;5;66;03m# If we don't have any hooks, we want to skip the rest of the logic in\u001b[39;00m\n\u001b[1;32m   1516\u001b[0m \u001b[38;5;66;03m# this function, and just call forward.\u001b[39;00m\n\u001b[1;32m   1517\u001b[0m \u001b[38;5;28;01mif\u001b[39;00m \u001b[38;5;129;01mnot\u001b[39;00m (\u001b[38;5;28mself\u001b[39m\u001b[38;5;241m.\u001b[39m_backward_hooks \u001b[38;5;129;01mor\u001b[39;00m \u001b[38;5;28mself\u001b[39m\u001b[38;5;241m.\u001b[39m_backward_pre_hooks \u001b[38;5;129;01mor\u001b[39;00m \u001b[38;5;28mself\u001b[39m\u001b[38;5;241m.\u001b[39m_forward_hooks \u001b[38;5;129;01mor\u001b[39;00m \u001b[38;5;28mself\u001b[39m\u001b[38;5;241m.\u001b[39m_forward_pre_hooks\n\u001b[1;32m   1518\u001b[0m         \u001b[38;5;129;01mor\u001b[39;00m _global_backward_pre_hooks \u001b[38;5;129;01mor\u001b[39;00m _global_backward_hooks\n\u001b[1;32m   1519\u001b[0m         \u001b[38;5;129;01mor\u001b[39;00m _global_forward_hooks \u001b[38;5;129;01mor\u001b[39;00m _global_forward_pre_hooks):\n\u001b[0;32m-> 1520\u001b[0m     \u001b[38;5;28;01mreturn\u001b[39;00m \u001b[43mforward_call\u001b[49m\u001b[43m(\u001b[49m\u001b[38;5;241;43m*\u001b[39;49m\u001b[43margs\u001b[49m\u001b[43m,\u001b[49m\u001b[43m \u001b[49m\u001b[38;5;241;43m*\u001b[39;49m\u001b[38;5;241;43m*\u001b[39;49m\u001b[43mkwargs\u001b[49m\u001b[43m)\u001b[49m\n\u001b[1;32m   1522\u001b[0m \u001b[38;5;28;01mtry\u001b[39;00m:\n\u001b[1;32m   1523\u001b[0m     result \u001b[38;5;241m=\u001b[39m \u001b[38;5;28;01mNone\u001b[39;00m\n",
      "File \u001b[0;32m~/miniconda3/envs/llm/lib/python3.10/site-packages/accelerate/hooks.py:166\u001b[0m, in \u001b[0;36madd_hook_to_module.<locals>.new_forward\u001b[0;34m(module, *args, **kwargs)\u001b[0m\n\u001b[1;32m    164\u001b[0m         output \u001b[38;5;241m=\u001b[39m module\u001b[38;5;241m.\u001b[39m_old_forward(\u001b[38;5;241m*\u001b[39margs, \u001b[38;5;241m*\u001b[39m\u001b[38;5;241m*\u001b[39mkwargs)\n\u001b[1;32m    165\u001b[0m \u001b[38;5;28;01melse\u001b[39;00m:\n\u001b[0;32m--> 166\u001b[0m     output \u001b[38;5;241m=\u001b[39m \u001b[43mmodule\u001b[49m\u001b[38;5;241;43m.\u001b[39;49m\u001b[43m_old_forward\u001b[49m\u001b[43m(\u001b[49m\u001b[38;5;241;43m*\u001b[39;49m\u001b[43margs\u001b[49m\u001b[43m,\u001b[49m\u001b[43m \u001b[49m\u001b[38;5;241;43m*\u001b[39;49m\u001b[38;5;241;43m*\u001b[39;49m\u001b[43mkwargs\u001b[49m\u001b[43m)\u001b[49m\n\u001b[1;32m    167\u001b[0m \u001b[38;5;28;01mreturn\u001b[39;00m module\u001b[38;5;241m.\u001b[39m_hf_hook\u001b[38;5;241m.\u001b[39mpost_forward(module, output)\n",
      "File \u001b[0;32m~/miniconda3/envs/llm/lib/python3.10/site-packages/transformers/models/gpt_neox/modeling_gpt_neox.py:213\u001b[0m, in \u001b[0;36mGPTNeoXAttention.forward\u001b[0;34m(self, hidden_states, attention_mask, position_ids, head_mask, layer_past, use_cache, output_attentions, padding_mask)\u001b[0m\n\u001b[1;32m    210\u001b[0m present \u001b[38;5;241m=\u001b[39m (key, value) \u001b[38;5;28;01mif\u001b[39;00m use_cache \u001b[38;5;28;01melse\u001b[39;00m \u001b[38;5;28;01mNone\u001b[39;00m\n\u001b[1;32m    212\u001b[0m \u001b[38;5;66;03m# Compute attention\u001b[39;00m\n\u001b[0;32m--> 213\u001b[0m attn_output, attn_weights \u001b[38;5;241m=\u001b[39m \u001b[38;5;28;43mself\u001b[39;49m\u001b[38;5;241;43m.\u001b[39;49m\u001b[43m_attn\u001b[49m\u001b[43m(\u001b[49m\u001b[43mquery\u001b[49m\u001b[43m,\u001b[49m\u001b[43m \u001b[49m\u001b[43mkey\u001b[49m\u001b[43m,\u001b[49m\u001b[43m \u001b[49m\u001b[43mvalue\u001b[49m\u001b[43m,\u001b[49m\u001b[43m \u001b[49m\u001b[43mattention_mask\u001b[49m\u001b[43m,\u001b[49m\u001b[43m \u001b[49m\u001b[43mhead_mask\u001b[49m\u001b[43m)\u001b[49m\n\u001b[1;32m    215\u001b[0m \u001b[38;5;66;03m# Reshape outputs\u001b[39;00m\n\u001b[1;32m    216\u001b[0m attn_output \u001b[38;5;241m=\u001b[39m \u001b[38;5;28mself\u001b[39m\u001b[38;5;241m.\u001b[39m_merge_heads(attn_output, \u001b[38;5;28mself\u001b[39m\u001b[38;5;241m.\u001b[39mnum_attention_heads, \u001b[38;5;28mself\u001b[39m\u001b[38;5;241m.\u001b[39mhead_size)\n",
      "File \u001b[0;32m~/miniconda3/envs/llm/lib/python3.10/site-packages/transformers/models/gpt_neox/modeling_gpt_neox.py:282\u001b[0m, in \u001b[0;36mGPTNeoXAttention._attn\u001b[0;34m(self, query, key, value, attention_mask, head_mask)\u001b[0m\n\u001b[1;32m    279\u001b[0m mask_value \u001b[38;5;241m=\u001b[39m torch\u001b[38;5;241m.\u001b[39mfinfo(attn_scores\u001b[38;5;241m.\u001b[39mdtype)\u001b[38;5;241m.\u001b[39mmin\n\u001b[1;32m    280\u001b[0m \u001b[38;5;66;03m# Need to be a tensor, otherwise we get error: `RuntimeError: expected scalar type float but found double`.\u001b[39;00m\n\u001b[1;32m    281\u001b[0m \u001b[38;5;66;03m# Need to be on the same device, otherwise `RuntimeError: ..., x and y to be on the same device`\u001b[39;00m\n\u001b[0;32m--> 282\u001b[0m mask_value \u001b[38;5;241m=\u001b[39m \u001b[43mtorch\u001b[49m\u001b[38;5;241;43m.\u001b[39;49m\u001b[43mtensor\u001b[49m\u001b[43m(\u001b[49m\u001b[43mmask_value\u001b[49m\u001b[43m,\u001b[49m\u001b[43m \u001b[49m\u001b[43mdtype\u001b[49m\u001b[38;5;241;43m=\u001b[39;49m\u001b[43mattn_scores\u001b[49m\u001b[38;5;241;43m.\u001b[39;49m\u001b[43mdtype\u001b[49m\u001b[43m)\u001b[49m\u001b[38;5;241;43m.\u001b[39;49m\u001b[43mto\u001b[49m\u001b[43m(\u001b[49m\u001b[43mattn_scores\u001b[49m\u001b[38;5;241;43m.\u001b[39;49m\u001b[43mdevice\u001b[49m\u001b[43m)\u001b[49m\n\u001b[1;32m    283\u001b[0m attn_scores \u001b[38;5;241m=\u001b[39m torch\u001b[38;5;241m.\u001b[39mwhere(causal_mask, attn_scores, mask_value)\n\u001b[1;32m    285\u001b[0m \u001b[38;5;28;01mif\u001b[39;00m attention_mask \u001b[38;5;129;01mis\u001b[39;00m \u001b[38;5;129;01mnot\u001b[39;00m \u001b[38;5;28;01mNone\u001b[39;00m:\n\u001b[1;32m    286\u001b[0m     \u001b[38;5;66;03m# Apply the attention mask\u001b[39;00m\n",
      "\u001b[0;31mKeyboardInterrupt\u001b[0m: "
     ]
    }
   ],
   "source": [
    "for t in texts:\n",
    "    inference_transformer(model_transformer, tok_transformer, t, 100)"
   ]
  },
  {
   "cell_type": "code",
   "execution_count": null,
   "metadata": {},
   "outputs": [],
   "source": [
    "texts = [\n",
    "    \"犬\" * 32,\n",
    "    \"犬\" * 64,\n",
    "    \"犬\" * 128,\n",
    "    \"犬\" * 256,\n",
    "    \"犬\" * 512,\n",
    "    \"犬\" * 1024,\n",
    "    \"犬\" * 2048,\n",
    "    \"犬\" * 4096,\n",
    "]"
   ]
  },
  {
   "cell_type": "code",
   "execution_count": null,
   "metadata": {},
   "outputs": [
    {
     "data": {
      "text/plain": [
       "[<matplotlib.lines.Line2D at 0x1553b41964a0>]"
      ]
     },
     "execution_count": 25,
     "metadata": {},
     "output_type": "execute_result"
    },
    {
     "data": {
      "image/png": "[encoded data removed]",
      "text/plain": [
       "<Figure size 640x480 with 1 Axes>"
      ]
     },
     "metadata": {},
     "output_type": "display_data"
    }
   ],
   "source": [
    "times_retnet = []\n",
    "lengths = [32, 64, 128, 256, 512, 1024, 2048, 4096]\n",
    "for t, l in zip(texts, lengths):\n",
    "    inputs = tok_retnet(t, return_tensors=\"pt\").to(model_retnet.device)\n",
    "    kv_retnet, elapsed = precompute_kv_retnet(model_retnet, inputs)\n",
    "    times_retnet.append({\"length\": l, \"time\": elapsed})\n",
    "plt.plot([t[\"length\"] for t in times_retnet], [t[\"time\"] for t in times_retnet])"
   ]
  },
  {
   "cell_type": "code",
   "execution_count": null,
   "metadata": {},
   "outputs": [
    {
     "data": {
      "text/plain": [
       "[<matplotlib.lines.Line2D at 0x15539c12b7c0>]"
      ]
     },
     "execution_count": 59,
     "metadata": {},
     "output_type": "execute_result"
    },
    {
     "data": {
      "image/png": "[encoded data removed]",
      "text/plain": [
       "<Figure size 640x480 with 1 Axes>"
      ]
     },
     "metadata": {},
     "output_type": "display_data"
    }
   ],
   "source": [
    "times_transformer = []\n",
    "lengths = [32, 64, 128, 256, 512, 1024, 2048]\n",
    "for t, l in zip(texts, lengths):\n",
    "    inputs = tok_transformer(t, return_tensors=\"pt\").to(model_transformer.device)\n",
    "    kv_transformer, elapsed = precompute_kv_transformer(model_transformer, inputs)\n",
    "    times_transformer.append({\"length\": l, \"time\": elapsed})\n",
    "plt.plot(\n",
    "    [t[\"length\"] for t in times_transformer], [t[\"time\"] for t in times_transformer]\n",
    ")"
   ]
  },
  {
   "cell_type": "code",
   "execution_count": null,
   "metadata": {},
   "outputs": [
    {
     "data": {
      "text/plain": [
       "torch.Size([1, 10, 428, 256])"
      ]
     },
     "execution_count": 60,
     "metadata": {},
     "output_type": "execute_result"
    }
   ],
   "source": [
    "kv_retnet.past_key_values[0][\"prev_key_value\"].shape"
   ]
  },
  {
   "cell_type": "code",
   "execution_count": null,
   "metadata": {},
   "outputs": [
    {
     "data": {
      "text/plain": [
       "torch.Size([1, 32, 2048, 80])"
      ]
     },
     "execution_count": 61,
     "metadata": {},
     "output_type": "execute_result"
    }
   ],
   "source": [
    "kv_transformer.past_key_values[0][1].shape"
   ]
  },
  {
   "cell_type": "code",
   "execution_count": null,
   "metadata": {},
   "outputs": [],
   "source": []
  }
 ],
 "metadata": {
  "kernelspec": {
   "display_name": "llm",
   "language": "python",
   "name": "python3"
  },
  "language_info": {
   "codemirror_mode": {
    "name": "ipython",
    "version": 3
   },
   "file_extension": ".py",
   "mimetype": "text/x-python",
   "name": "python",
   "nbconvert_exporter": "python",
   "pygments_lexer": "ipython3",
   "version": "3.10.13"
  }
 },
 "nbformat": 4,
 "nbformat_minor": 2
}
